{
 "cells": [
  {
   "cell_type": "code",
   "execution_count": 1,
   "metadata": {},
   "outputs": [],
   "source": [
    "import pandas as pd\n",
    "import numpy as np\n",
    "import bisect\n",
    "\n",
    "\"\"\"\n",
    "  Initialization\n",
    "  ===============\n",
    "   Input following commands on python console\n",
    "     pip install pandas\n",
    "     pip install numpy\n",
    "     pip install bisect\n",
    "     \n",
    "  Import data's\n",
    "  ===============  \n",
    "    Required data's like time series inflow and H-A-V curve data's are imported.\n",
    "    \n",
    "  Interpolation\n",
    "  ===============  \n",
    "    H-A-V data's are is interpolated for known storage volume to return corresponding\n",
    "    elevation and surface area.\n",
    "\"\"\"\n",
    "df = pd.read_excel(r'pso_data.xlsx')\n",
    "Start = df['Date'][0]\n",
    "End = df['Date'][df.index[-1]]\n",
    "df['Year'] = pd.DatetimeIndex(df['Date']).year\n",
    "Fyear = df['Year'][0]\n",
    "Lyear = df['Year'][df.index[-1]]\n",
    "Tyear = Lyear - Fyear + 1\n",
    "I3 = df['Pachuwarghat'] + df['Local Inflow at Sunkoshi III']\n",
    "I3 = I3.tolist()\n",
    "l2 = df['Local Inflow at Sunkoshi II'].tolist()\n",
    "l1 = df['Sangutar'] + df['Rabuwa Bazar'] + df['Local Inflow at Sunkoshi I']\n",
    "l1_ = df['Sangutar'] + df['Local Inflow at Sunkoshi I']\n",
    "l1 = l1.tolist()\n",
    "Is1 = df['Khurkot'] + df['Sangutar'] + df['Rabuwa Bazar'] + df['Local Inflow at Sunkoshi I']\n",
    "Is2 = df['Khurkot']\n",
    "Dk = df['Rabuwa Bazar'].tolist()\n",
    "Ex1 = pd.read_excel(r'Sunkoshi.xlsx', sheet_name='SUNKOSHI1')\n",
    "Ex2 = pd.read_excel(r'Sunkoshi.xlsx', sheet_name='SUNKOSHI2')\n",
    "Ex3 = pd.read_excel(r'Sunkoshi.xlsx', sheet_name='SUNKOSHI3')\n",
    "Exd = pd.read_excel(r'Sunkoshi.xlsx', sheet_name='Dudhkoshi1')\n",
    "\n",
    "\n",
    "def get_interval(d, a):\n",
    "\tv = d.Vol\n",
    "\ti = bisect.bisect_right(v, a)\n",
    "\treturn d[i - 1:i + 1]\n",
    "\n",
    "\n",
    "def Interpolate(s, a, c='v'):\n",
    "\tf = get_interval(s, a)\n",
    "\tf = f.reset_index(drop=True)\n",
    "\tif c == 'Elev':\n",
    "\t\tm = np.interp(a, f.Vol, f.Elev)\n",
    "\t\treturn m\n",
    "\telif c == 'SArea':\n",
    "\t\tn = np.interp(a, f.Vol, f.SArea)\n",
    "\t\treturn n\n"
   ]
  },
  {
   "cell_type": "code",
   "execution_count": null,
   "metadata": {},
   "outputs": [],
   "source": []
  }
 ],
 "metadata": {
  "kernelspec": {
   "display_name": "Python 3",
   "language": "python",
   "name": "python3"
  },
  "language_info": {
   "codemirror_mode": {
    "name": "ipython",
    "version": 3
   },
   "file_extension": ".py",
   "mimetype": "text/x-python",
   "name": "python",
   "nbconvert_exporter": "python",
   "pygments_lexer": "ipython3",
   "version": "3.8.5"
  }
 },
 "nbformat": 4,
 "nbformat_minor": 4
}
